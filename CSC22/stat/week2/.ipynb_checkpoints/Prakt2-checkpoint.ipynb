{
 "cells": [
  {
   "cell_type": "code",
   "execution_count": 3,
   "metadata": {},
   "outputs": [],
   "source": [
    "import numpy as np\n",
    "import matplotlib.pyplot as plt\n",
    "import pandas as pd"
   ]
  },
  {
   "cell_type": "code",
   "execution_count": 5,
   "metadata": {},
   "outputs": [],
   "source": [
    "#df2 = pd.DataFrame()\n",
    "df = pd.read_fwf('cars.txt', na_values = ['*'], infer_nrows = 1000)\n",
    "df.columns =['Vehicle Name', 'Sports Car?', 'Sport Utility Vehicle?',\n",
    "             'Wagon?',\n",
    "             'Minivan?',\n",
    "             'Pickup?',\n",
    "             'All-Wheel Drive?',\n",
    "             'Rear-Wheel Drive?',\n",
    "             'Suggested Retail Price',\n",
    "             'Dealer Cost',\n",
    "             'Engine Size',\n",
    "              'Number of Cylinders',\n",
    "            'Horsepower', \n",
    "            'City Miles Per Gallon',\n",
    "             'Highway Miles Per Gallon',\n",
    "             'Weight',\n",
    "             'Wheel Base',\n",
    "            'Length',\n",
    "            'Width'] "
   ]
  },
  {
   "cell_type": "code",
   "execution_count": 6,
   "metadata": {},
   "outputs": [
    {
     "data": {
      "text/html": [
       "<div>\n",
       "<style scoped>\n",
       "    .dataframe tbody tr th:only-of-type {\n",
       "        vertical-align: middle;\n",
       "    }\n",
       "\n",
       "    .dataframe tbody tr th {\n",
       "        vertical-align: top;\n",
       "    }\n",
       "\n",
       "    .dataframe thead th {\n",
       "        text-align: right;\n",
       "    }\n",
       "</style>\n",
       "<table border=\"1\" class=\"dataframe\">\n",
       "  <thead>\n",
       "    <tr style=\"text-align: right;\">\n",
       "      <th></th>\n",
       "      <th>Vehicle Name</th>\n",
       "      <th>Sports Car?</th>\n",
       "      <th>Sport Utility Vehicle?</th>\n",
       "      <th>Wagon?</th>\n",
       "      <th>Minivan?</th>\n",
       "      <th>Pickup?</th>\n",
       "      <th>All-Wheel Drive?</th>\n",
       "      <th>Rear-Wheel Drive?</th>\n",
       "      <th>Suggested Retail Price</th>\n",
       "      <th>Dealer Cost</th>\n",
       "      <th>Engine Size</th>\n",
       "      <th>Number of Cylinders</th>\n",
       "      <th>Horsepower</th>\n",
       "      <th>City Miles Per Gallon</th>\n",
       "      <th>Highway Miles Per Gallon</th>\n",
       "      <th>Weight</th>\n",
       "      <th>Wheel Base</th>\n",
       "      <th>Length</th>\n",
       "      <th>Width</th>\n",
       "    </tr>\n",
       "  </thead>\n",
       "  <tbody>\n",
       "    <tr>\n",
       "      <th>0</th>\n",
       "      <td>Chevrolet Aveo LS 4dr hatch</td>\n",
       "      <td>0</td>\n",
       "      <td>0</td>\n",
       "      <td>0</td>\n",
       "      <td>0</td>\n",
       "      <td>0</td>\n",
       "      <td>0</td>\n",
       "      <td>0</td>\n",
       "      <td>12585</td>\n",
       "      <td>11802</td>\n",
       "      <td>1.6</td>\n",
       "      <td>4</td>\n",
       "      <td>103</td>\n",
       "      <td>28.0</td>\n",
       "      <td>34.0</td>\n",
       "      <td>2348.0</td>\n",
       "      <td>98.0</td>\n",
       "      <td>153.0</td>\n",
       "      <td>66.0</td>\n",
       "    </tr>\n",
       "    <tr>\n",
       "      <th>1</th>\n",
       "      <td>Chevrolet Cavalier 2dr</td>\n",
       "      <td>0</td>\n",
       "      <td>0</td>\n",
       "      <td>0</td>\n",
       "      <td>0</td>\n",
       "      <td>0</td>\n",
       "      <td>0</td>\n",
       "      <td>0</td>\n",
       "      <td>14610</td>\n",
       "      <td>13697</td>\n",
       "      <td>2.2</td>\n",
       "      <td>4</td>\n",
       "      <td>140</td>\n",
       "      <td>26.0</td>\n",
       "      <td>37.0</td>\n",
       "      <td>2617.0</td>\n",
       "      <td>104.0</td>\n",
       "      <td>183.0</td>\n",
       "      <td>69.0</td>\n",
       "    </tr>\n",
       "    <tr>\n",
       "      <th>2</th>\n",
       "      <td>Chevrolet Cavalier 4dr</td>\n",
       "      <td>0</td>\n",
       "      <td>0</td>\n",
       "      <td>0</td>\n",
       "      <td>0</td>\n",
       "      <td>0</td>\n",
       "      <td>0</td>\n",
       "      <td>0</td>\n",
       "      <td>14810</td>\n",
       "      <td>13884</td>\n",
       "      <td>2.2</td>\n",
       "      <td>4</td>\n",
       "      <td>140</td>\n",
       "      <td>26.0</td>\n",
       "      <td>37.0</td>\n",
       "      <td>2676.0</td>\n",
       "      <td>104.0</td>\n",
       "      <td>183.0</td>\n",
       "      <td>68.0</td>\n",
       "    </tr>\n",
       "    <tr>\n",
       "      <th>3</th>\n",
       "      <td>Chevrolet Cavalier LS 2dr</td>\n",
       "      <td>0</td>\n",
       "      <td>0</td>\n",
       "      <td>0</td>\n",
       "      <td>0</td>\n",
       "      <td>0</td>\n",
       "      <td>0</td>\n",
       "      <td>0</td>\n",
       "      <td>16385</td>\n",
       "      <td>15357</td>\n",
       "      <td>2.2</td>\n",
       "      <td>4</td>\n",
       "      <td>140</td>\n",
       "      <td>26.0</td>\n",
       "      <td>37.0</td>\n",
       "      <td>2617.0</td>\n",
       "      <td>104.0</td>\n",
       "      <td>183.0</td>\n",
       "      <td>69.0</td>\n",
       "    </tr>\n",
       "    <tr>\n",
       "      <th>4</th>\n",
       "      <td>Dodge Neon SE 4dr</td>\n",
       "      <td>0</td>\n",
       "      <td>0</td>\n",
       "      <td>0</td>\n",
       "      <td>0</td>\n",
       "      <td>0</td>\n",
       "      <td>0</td>\n",
       "      <td>0</td>\n",
       "      <td>13670</td>\n",
       "      <td>12849</td>\n",
       "      <td>2.0</td>\n",
       "      <td>4</td>\n",
       "      <td>132</td>\n",
       "      <td>29.0</td>\n",
       "      <td>36.0</td>\n",
       "      <td>2581.0</td>\n",
       "      <td>105.0</td>\n",
       "      <td>174.0</td>\n",
       "      <td>67.0</td>\n",
       "    </tr>\n",
       "    <tr>\n",
       "      <th>...</th>\n",
       "      <td>...</td>\n",
       "      <td>...</td>\n",
       "      <td>...</td>\n",
       "      <td>...</td>\n",
       "      <td>...</td>\n",
       "      <td>...</td>\n",
       "      <td>...</td>\n",
       "      <td>...</td>\n",
       "      <td>...</td>\n",
       "      <td>...</td>\n",
       "      <td>...</td>\n",
       "      <td>...</td>\n",
       "      <td>...</td>\n",
       "      <td>...</td>\n",
       "      <td>...</td>\n",
       "      <td>...</td>\n",
       "      <td>...</td>\n",
       "      <td>...</td>\n",
       "      <td>...</td>\n",
       "    </tr>\n",
       "    <tr>\n",
       "      <th>422</th>\n",
       "      <td>Nissan Titan King Cab XE</td>\n",
       "      <td>0</td>\n",
       "      <td>0</td>\n",
       "      <td>0</td>\n",
       "      <td>0</td>\n",
       "      <td>1</td>\n",
       "      <td>1</td>\n",
       "      <td>0</td>\n",
       "      <td>26650</td>\n",
       "      <td>24926</td>\n",
       "      <td>5.6</td>\n",
       "      <td>8</td>\n",
       "      <td>305</td>\n",
       "      <td>14.0</td>\n",
       "      <td>18.0</td>\n",
       "      <td>5287.0</td>\n",
       "      <td>140.0</td>\n",
       "      <td>NaN</td>\n",
       "      <td>NaN</td>\n",
       "    </tr>\n",
       "    <tr>\n",
       "      <th>423</th>\n",
       "      <td>Subaru Baja</td>\n",
       "      <td>0</td>\n",
       "      <td>0</td>\n",
       "      <td>0</td>\n",
       "      <td>0</td>\n",
       "      <td>1</td>\n",
       "      <td>1</td>\n",
       "      <td>0</td>\n",
       "      <td>24520</td>\n",
       "      <td>22304</td>\n",
       "      <td>2.5</td>\n",
       "      <td>4</td>\n",
       "      <td>165</td>\n",
       "      <td>21.0</td>\n",
       "      <td>28.0</td>\n",
       "      <td>3485.0</td>\n",
       "      <td>104.0</td>\n",
       "      <td>NaN</td>\n",
       "      <td>NaN</td>\n",
       "    </tr>\n",
       "    <tr>\n",
       "      <th>424</th>\n",
       "      <td>Toyota Tacoma</td>\n",
       "      <td>0</td>\n",
       "      <td>0</td>\n",
       "      <td>0</td>\n",
       "      <td>0</td>\n",
       "      <td>1</td>\n",
       "      <td>0</td>\n",
       "      <td>1</td>\n",
       "      <td>12800</td>\n",
       "      <td>11879</td>\n",
       "      <td>2.4</td>\n",
       "      <td>4</td>\n",
       "      <td>142</td>\n",
       "      <td>22.0</td>\n",
       "      <td>27.0</td>\n",
       "      <td>2750.0</td>\n",
       "      <td>103.0</td>\n",
       "      <td>NaN</td>\n",
       "      <td>NaN</td>\n",
       "    </tr>\n",
       "    <tr>\n",
       "      <th>425</th>\n",
       "      <td>Toyota Tundra Regular Cab V6</td>\n",
       "      <td>0</td>\n",
       "      <td>0</td>\n",
       "      <td>0</td>\n",
       "      <td>0</td>\n",
       "      <td>1</td>\n",
       "      <td>0</td>\n",
       "      <td>1</td>\n",
       "      <td>16495</td>\n",
       "      <td>14978</td>\n",
       "      <td>3.4</td>\n",
       "      <td>6</td>\n",
       "      <td>190</td>\n",
       "      <td>16.0</td>\n",
       "      <td>20.0</td>\n",
       "      <td>3925.0</td>\n",
       "      <td>128.0</td>\n",
       "      <td>NaN</td>\n",
       "      <td>NaN</td>\n",
       "    </tr>\n",
       "    <tr>\n",
       "      <th>426</th>\n",
       "      <td>Toyota Tundra Access Cab V6 SR5</td>\n",
       "      <td>0</td>\n",
       "      <td>0</td>\n",
       "      <td>0</td>\n",
       "      <td>0</td>\n",
       "      <td>1</td>\n",
       "      <td>1</td>\n",
       "      <td>0</td>\n",
       "      <td>25935</td>\n",
       "      <td>23520</td>\n",
       "      <td>3.4</td>\n",
       "      <td>6</td>\n",
       "      <td>190</td>\n",
       "      <td>14.0</td>\n",
       "      <td>17.0</td>\n",
       "      <td>4435.0</td>\n",
       "      <td>128.0</td>\n",
       "      <td>NaN</td>\n",
       "      <td>NaN</td>\n",
       "    </tr>\n",
       "  </tbody>\n",
       "</table>\n",
       "<p>427 rows × 19 columns</p>\n",
       "</div>"
      ],
      "text/plain": [
       "                        Vehicle Name  Sports Car?  Sport Utility Vehicle?  \\\n",
       "0        Chevrolet Aveo LS 4dr hatch            0                       0   \n",
       "1             Chevrolet Cavalier 2dr            0                       0   \n",
       "2             Chevrolet Cavalier 4dr            0                       0   \n",
       "3          Chevrolet Cavalier LS 2dr            0                       0   \n",
       "4                  Dodge Neon SE 4dr            0                       0   \n",
       "..                               ...          ...                     ...   \n",
       "422         Nissan Titan King Cab XE            0                       0   \n",
       "423                      Subaru Baja            0                       0   \n",
       "424                    Toyota Tacoma            0                       0   \n",
       "425     Toyota Tundra Regular Cab V6            0                       0   \n",
       "426  Toyota Tundra Access Cab V6 SR5            0                       0   \n",
       "\n",
       "     Wagon?  Minivan?  Pickup?  All-Wheel Drive?  Rear-Wheel Drive?  \\\n",
       "0         0         0        0                 0                  0   \n",
       "1         0         0        0                 0                  0   \n",
       "2         0         0        0                 0                  0   \n",
       "3         0         0        0                 0                  0   \n",
       "4         0         0        0                 0                  0   \n",
       "..      ...       ...      ...               ...                ...   \n",
       "422       0         0        1                 1                  0   \n",
       "423       0         0        1                 1                  0   \n",
       "424       0         0        1                 0                  1   \n",
       "425       0         0        1                 0                  1   \n",
       "426       0         0        1                 1                  0   \n",
       "\n",
       "     Suggested Retail Price  Dealer Cost  Engine Size  Number of Cylinders  \\\n",
       "0                     12585        11802          1.6                    4   \n",
       "1                     14610        13697          2.2                    4   \n",
       "2                     14810        13884          2.2                    4   \n",
       "3                     16385        15357          2.2                    4   \n",
       "4                     13670        12849          2.0                    4   \n",
       "..                      ...          ...          ...                  ...   \n",
       "422                   26650        24926          5.6                    8   \n",
       "423                   24520        22304          2.5                    4   \n",
       "424                   12800        11879          2.4                    4   \n",
       "425                   16495        14978          3.4                    6   \n",
       "426                   25935        23520          3.4                    6   \n",
       "\n",
       "     Horsepower  City Miles Per Gallon  Highway Miles Per Gallon  Weight  \\\n",
       "0           103                   28.0                      34.0  2348.0   \n",
       "1           140                   26.0                      37.0  2617.0   \n",
       "2           140                   26.0                      37.0  2676.0   \n",
       "3           140                   26.0                      37.0  2617.0   \n",
       "4           132                   29.0                      36.0  2581.0   \n",
       "..          ...                    ...                       ...     ...   \n",
       "422         305                   14.0                      18.0  5287.0   \n",
       "423         165                   21.0                      28.0  3485.0   \n",
       "424         142                   22.0                      27.0  2750.0   \n",
       "425         190                   16.0                      20.0  3925.0   \n",
       "426         190                   14.0                      17.0  4435.0   \n",
       "\n",
       "     Wheel Base  Length  Width  \n",
       "0          98.0   153.0   66.0  \n",
       "1         104.0   183.0   69.0  \n",
       "2         104.0   183.0   68.0  \n",
       "3         104.0   183.0   69.0  \n",
       "4         105.0   174.0   67.0  \n",
       "..          ...     ...    ...  \n",
       "422       140.0     NaN    NaN  \n",
       "423       104.0     NaN    NaN  \n",
       "424       103.0     NaN    NaN  \n",
       "425       128.0     NaN    NaN  \n",
       "426       128.0     NaN    NaN  \n",
       "\n",
       "[427 rows x 19 columns]"
      ]
     },
     "execution_count": 6,
     "metadata": {},
     "output_type": "execute_result"
    }
   ],
   "source": [
    "df"
   ]
  },
  {
   "cell_type": "code",
   "execution_count": 8,
   "metadata": {},
   "outputs": [
    {
     "data": {
      "image/png": "[encoded data removed]",
      "text/plain": [
       "<Figure size 432x288 with 1 Axes>"
      ]
     },
     "metadata": {
      "needs_background": "light"
     },
     "output_type": "display_data"
    }
   ],
   "source": [
    "\n",
    "\n",
    "names = ['Sports Car?', 'Wagon?', 'Minivan?', 'Pickup?']\n",
    "values = [df['Sports Car?'].sum(), df['Wagon?'].sum(), df['Minivan?'].sum(), df['Pickup?'].sum()]\n",
    "#  , 'All-Wheel Drive?', 'Rear-Wheel Drive?' df['All-Wheel Drive?'].sum(), df['Rear-Wheel Drive?'].sum()\n",
    "plt.bar(names, values)\n",
    "plt.show()\n",
    "\n",
    "#data[(data[8])]"
   ]
  },
  {
   "cell_type": "code",
   "execution_count": 13,
   "metadata": {},
   "outputs": [
    {
     "data": {
      "image/png": "[encoded data removed]",
      "text/plain": [
       "<Figure size 432x288 with 1 Axes>"
      ]
     },
     "metadata": {
      "needs_background": "light"
     },
     "output_type": "display_data"
    }
   ],
   "source": [
    "#Dealer Cost\n",
    "\n",
    "plt.scatter(df['Number of Cylinders'], df['Dealer Cost'])\n",
    "plt.show()"
   ]
  },
  {
   "cell_type": "code",
   "execution_count": 14,
   "metadata": {},
   "outputs": [
    {
     "data": {
      "text/html": [
       "<div>\n",
       "<style scoped>\n",
       "    .dataframe tbody tr th:only-of-type {\n",
       "        vertical-align: middle;\n",
       "    }\n",
       "\n",
       "    .dataframe tbody tr th {\n",
       "        vertical-align: top;\n",
       "    }\n",
       "\n",
       "    .dataframe thead th {\n",
       "        text-align: right;\n",
       "    }\n",
       "</style>\n",
       "<table border=\"1\" class=\"dataframe\">\n",
       "  <thead>\n",
       "    <tr style=\"text-align: right;\">\n",
       "      <th></th>\n",
       "      <th>Vehicle Name</th>\n",
       "      <th>Sports Car?</th>\n",
       "      <th>Sport Utility Vehicle?</th>\n",
       "      <th>Wagon?</th>\n",
       "      <th>Minivan?</th>\n",
       "      <th>Pickup?</th>\n",
       "      <th>All-Wheel Drive?</th>\n",
       "      <th>Rear-Wheel Drive?</th>\n",
       "      <th>Suggested Retail Price</th>\n",
       "      <th>Dealer Cost</th>\n",
       "      <th>Engine Size</th>\n",
       "      <th>Number of Cylinders</th>\n",
       "      <th>Horsepower</th>\n",
       "      <th>City Miles Per Gallon</th>\n",
       "      <th>Highway Miles Per Gallon</th>\n",
       "      <th>Weight</th>\n",
       "      <th>Wheel Base</th>\n",
       "      <th>Length</th>\n",
       "      <th>Width</th>\n",
       "    </tr>\n",
       "  </thead>\n",
       "  <tbody>\n",
       "    <tr>\n",
       "      <th>286</th>\n",
       "      <td>Porsche 911 GT2 2dr</td>\n",
       "      <td>1</td>\n",
       "      <td>0</td>\n",
       "      <td>0</td>\n",
       "      <td>0</td>\n",
       "      <td>0</td>\n",
       "      <td>0</td>\n",
       "      <td>1</td>\n",
       "      <td>192465</td>\n",
       "      <td>173560</td>\n",
       "      <td>3.6</td>\n",
       "      <td>6</td>\n",
       "      <td>477</td>\n",
       "      <td>17.0</td>\n",
       "      <td>24.0</td>\n",
       "      <td>3131.0</td>\n",
       "      <td>93.0</td>\n",
       "      <td>175.0</td>\n",
       "      <td>72.0</td>\n",
       "    </tr>\n",
       "  </tbody>\n",
       "</table>\n",
       "</div>"
      ],
      "text/plain": [
       "            Vehicle Name  Sports Car?  Sport Utility Vehicle?  Wagon?  \\\n",
       "286  Porsche 911 GT2 2dr            1                       0       0   \n",
       "\n",
       "     Minivan?  Pickup?  All-Wheel Drive?  Rear-Wheel Drive?  \\\n",
       "286         0        0                 0                  1   \n",
       "\n",
       "     Suggested Retail Price  Dealer Cost  Engine Size  Number of Cylinders  \\\n",
       "286                  192465       173560          3.6                    6   \n",
       "\n",
       "     Horsepower  City Miles Per Gallon  Highway Miles Per Gallon  Weight  \\\n",
       "286         477                   17.0                      24.0  3131.0   \n",
       "\n",
       "     Wheel Base  Length  Width  \n",
       "286        93.0   175.0   72.0  "
      ]
     },
     "execution_count": 14,
     "metadata": {},
     "output_type": "execute_result"
    }
   ],
   "source": [
    "df[(df['Dealer Cost'] > 150000)]"
   ]
  },
  {
   "cell_type": "code",
   "execution_count": 19,
   "metadata": {},
   "outputs": [
    {
     "data": {
      "image/png": "[encoded data removed]",
      "text/plain": [
       "<Figure size 432x288 with 1 Axes>"
      ]
     },
     "metadata": {
      "needs_background": "light"
     },
     "output_type": "display_data"
    }
   ],
   "source": [
    "plt.scatter(df['Engine Size'],df['Length'])\n",
    "plt.show()"
   ]
  },
  {
   "cell_type": "code",
   "execution_count": 21,
   "metadata": {},
   "outputs": [
    {
     "data": {
      "image/png": "[encoded data removed]",
      "text/plain": [
       "<Figure size 432x288 with 1 Axes>"
      ]
     },
     "metadata": {
      "needs_background": "light"
     },
     "output_type": "display_data"
    }
   ],
   "source": [
    "plt.scatter(np.log(df['Engine Size']),np.log(df['Length']))\n",
    "plt.show()"
   ]
  },
  {
   "cell_type": "code",
   "execution_count": 20,
   "metadata": {},
   "outputs": [
    {
     "data": {
      "image/png": "[encoded data removed]",
      "text/plain": [
       "<Figure size 432x288 with 1 Axes>"
      ]
     },
     "metadata": {
      "needs_background": "light"
     },
     "output_type": "display_data"
    }
   ],
   "source": [
    "plt.scatter(df['Engine Size'],df['Weight'])\n",
    "plt.show()"
   ]
  },
  {
   "cell_type": "code",
   "execution_count": 22,
   "metadata": {},
   "outputs": [
    {
     "data": {
      "text/plain": [
       "[<matplotlib.lines.Line2D at 0x1a7f6de5cc8>]"
      ]
     },
     "execution_count": 22,
     "metadata": {},
     "output_type": "execute_result"
    },
    {
     "data": {
      "image/png": "[encoded data removed]",
      "text/plain": [
       "<Figure size 432x288 with 1 Axes>"
      ]
     },
     "metadata": {
      "needs_background": "light"
     },
     "output_type": "display_data"
    }
   ],
   "source": [
    "plt.plot((df['Suggested Retail Price'] - df['Dealer Cost']) / df['Dealer Cost'], 'o')"
   ]
  },
  {
   "cell_type": "code",
   "execution_count": 25,
   "metadata": {},
   "outputs": [
    {
     "data": {
      "image/png": "[encoded data removed]",
      "text/plain": [
       "<Figure size 432x288 with 1 Axes>"
      ]
     },
     "metadata": {
      "needs_background": "light"
     },
     "output_type": "display_data"
    }
   ],
   "source": [
    "\n",
    "plt.scatter(df['Highway Miles Per Gallon'],df['Weight'])\n",
    "plt.show()"
   ]
  },
  {
   "cell_type": "code",
   "execution_count": 31,
   "metadata": {},
   "outputs": [
    {
     "data": {
      "image/png": "[encoded data removed]",
      "text/plain": [
       "<Figure size 432x288 with 1 Axes>"
      ]
     },
     "metadata": {
      "needs_background": "light"
     },
     "output_type": "display_data"
    }
   ],
   "source": [
    "plt.plot(df['City Miles Per Gallon'] / df['Highway Miles Per Gallon'])\n",
    "plt.show()"
   ]
  },
  {
   "cell_type": "code",
   "execution_count": 32,
   "metadata": {},
   "outputs": [
    {
     "data": {
      "text/html": [
       "<div>\n",
       "<style scoped>\n",
       "    .dataframe tbody tr th:only-of-type {\n",
       "        vertical-align: middle;\n",
       "    }\n",
       "\n",
       "    .dataframe tbody tr th {\n",
       "        vertical-align: top;\n",
       "    }\n",
       "\n",
       "    .dataframe thead th {\n",
       "        text-align: right;\n",
       "    }\n",
       "</style>\n",
       "<table border=\"1\" class=\"dataframe\">\n",
       "  <thead>\n",
       "    <tr style=\"text-align: right;\">\n",
       "      <th></th>\n",
       "      <th>Vehicle Name</th>\n",
       "      <th>Sports Car?</th>\n",
       "      <th>Sport Utility Vehicle?</th>\n",
       "      <th>Wagon?</th>\n",
       "      <th>Minivan?</th>\n",
       "      <th>Pickup?</th>\n",
       "      <th>All-Wheel Drive?</th>\n",
       "      <th>Rear-Wheel Drive?</th>\n",
       "      <th>Suggested Retail Price</th>\n",
       "      <th>Dealer Cost</th>\n",
       "      <th>Engine Size</th>\n",
       "      <th>Number of Cylinders</th>\n",
       "      <th>Horsepower</th>\n",
       "      <th>City Miles Per Gallon</th>\n",
       "      <th>Highway Miles Per Gallon</th>\n",
       "      <th>Weight</th>\n",
       "      <th>Wheel Base</th>\n",
       "      <th>Length</th>\n",
       "      <th>Width</th>\n",
       "    </tr>\n",
       "  </thead>\n",
       "  <tbody>\n",
       "    <tr>\n",
       "      <th>92</th>\n",
       "      <td>Toyota Prius 4dr (gas/electric)</td>\n",
       "      <td>0</td>\n",
       "      <td>0</td>\n",
       "      <td>0</td>\n",
       "      <td>0</td>\n",
       "      <td>0</td>\n",
       "      <td>0</td>\n",
       "      <td>0</td>\n",
       "      <td>20510</td>\n",
       "      <td>18926</td>\n",
       "      <td>1.5</td>\n",
       "      <td>4</td>\n",
       "      <td>110</td>\n",
       "      <td>59.0</td>\n",
       "      <td>51.0</td>\n",
       "      <td>2890.0</td>\n",
       "      <td>106.0</td>\n",
       "      <td>175.0</td>\n",
       "      <td>68.0</td>\n",
       "    </tr>\n",
       "  </tbody>\n",
       "</table>\n",
       "</div>"
      ],
      "text/plain": [
       "                       Vehicle Name  Sports Car?  Sport Utility Vehicle?  \\\n",
       "92  Toyota Prius 4dr (gas/electric)            0                       0   \n",
       "\n",
       "    Wagon?  Minivan?  Pickup?  All-Wheel Drive?  Rear-Wheel Drive?  \\\n",
       "92       0         0        0                 0                  0   \n",
       "\n",
       "    Suggested Retail Price  Dealer Cost  Engine Size  Number of Cylinders  \\\n",
       "92                   20510        18926          1.5                    4   \n",
       "\n",
       "    Horsepower  City Miles Per Gallon  Highway Miles Per Gallon  Weight  \\\n",
       "92         110                   59.0                      51.0  2890.0   \n",
       "\n",
       "    Wheel Base  Length  Width  \n",
       "92       106.0   175.0   68.0  "
      ]
     },
     "execution_count": 32,
     "metadata": {},
     "output_type": "execute_result"
    }
   ],
   "source": [
    "df[(df['City Miles Per Gallon'] / df['Highway Miles Per Gallon']) > 1]"
   ]
  },
  {
   "cell_type": "code",
   "execution_count": null,
   "metadata": {},
   "outputs": [],
   "source": []
  }
 ],
 "metadata": {
  "kernelspec": {
   "display_name": "Python 3 (ipykernel)",
   "language": "python",
   "name": "python3"
  },
  "language_info": {
   "codemirror_mode": {
    "name": "ipython",
    "version": 3
   },
   "file_extension": ".py",
   "mimetype": "text/x-python",
   "name": "python",
   "nbconvert_exporter": "python",
   "pygments_lexer": "ipython3",
   "version": "3.9.7"
  }
 },
 "nbformat": 4,
 "nbformat_minor": 4
}
