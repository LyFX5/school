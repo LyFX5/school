{
 "cells": [
  {
   "cell_type": "code",
   "execution_count": 1,
   "id": "8e64b24d",
   "metadata": {},
   "outputs": [],
   "source": [
    "import numpy as np\n",
    "import copy\n",
    "import torch\n",
    "import torch.nn as nn\n",
    "import torch.optim as optim\n",
    "from scipy.stats import multivariate_normal"
   ]
  },
  {
   "cell_type": "code",
   "execution_count": 21,
   "id": "5f448799",
   "metadata": {},
   "outputs": [],
   "source": [
    "# TODO suturation action, reward state"
   ]
  },
  {
   "cell_type": "code",
   "execution_count": 36,
   "id": "9368a0c7",
   "metadata": {},
   "outputs": [],
   "source": [
    "class DNetwork(nn.Module):\n",
    "    def __init__(self, in_dim, out_dim):\n",
    "        super(DNetwork, self).__init__()\n",
    "        self.in_dim = in_dim\n",
    "        self.out_dim = out_dim\n",
    "        hiden_layer_len_1 = 50\n",
    "#         hiden_layer_len_2 = 50\n",
    "        self.hidden_1 = nn.Linear(self.in_dim, hiden_layer_len_1, bias=True)\n",
    "#         self.hidden_2 = nn.Linear(hiden_layer_len_1, hiden_layer_len_2, bias=True)\n",
    "        self.output = nn.Linear(hiden_layer_len_1, self.out_dim, bias=True)\n",
    "        self.activation_on_hidden_1 =  nn.ReLU() # nn.Tanh() # nn.ReLU()\n",
    "#         self.activation_on_hidden_2 = nn.ReLU() #\n",
    "        self.activation_on_output = nn.ReLU() # nn.Tanh()  # nn.Softmax()\n",
    "\n",
    "    def forward(self, x):\n",
    "        print(x)\n",
    "        x = self.hidden_1(x)\n",
    "        print(x)\n",
    "        x = self.activation_on_hidden_1(x)\n",
    "        print(x)\n",
    "#         x = self.hidden_2(x)\n",
    "#         x = self.activation_on_hidden_2(x)\n",
    "        x = self.output(x)\n",
    "        print(x)\n",
    "        x = self.activation_on_output(x)\n",
    "        print(x)\n",
    "        # x = self.Norm(x, self.sigma*torch.eye(2)).sample()\n",
    "        # torch.maximum(torch.minimum(x, torch.tensor(1)), torch.tensor(-1)) # self.activation_on_output(x) #\n",
    "        return x    "
   ]
  },
  {
   "cell_type": "code",
   "execution_count": null,
   "id": "9fe4d7f1",
   "metadata": {},
   "outputs": [],
   "source": []
  },
  {
   "cell_type": "code",
   "execution_count": null,
   "id": "d3add55a",
   "metadata": {},
   "outputs": [],
   "source": []
  },
  {
   "cell_type": "code",
   "execution_count": 46,
   "id": "495e04a9",
   "metadata": {},
   "outputs": [],
   "source": [
    "class Dynamics:\n",
    "    def __init__(self, state_dim=3, action_dim=1):\n",
    "        self.model = DNetwork(in_dim=(state_dim+action_dim), out_dim=state_dim)\n",
    "        self.criterion = nn.MSELoss()\n",
    "        self.optimizer = optim.Adam(params=self.model.parameters(), lr=0.002)\n",
    "    \n",
    "    def prepare_input(self, state: list, action: float) -> np.ndarray:\n",
    "        s = np.array(state)\n",
    "#         s = s.reshape((s.shape[0], 1))\n",
    "        a = np.array([action])\n",
    "#         a = a.reshape((a.shape[0], 1))\n",
    "        return np.concatenate((s, a), axis=0)\n",
    "    \n",
    "    def step(self, state: list, action: float) -> list:\n",
    "        s_a = self.prepare_input(state, action)\n",
    "        with torch.no_grad():\n",
    "            state_next = self.model(torch.from_numpy(s_a).float()) # .detach().numpy()\n",
    "        # list(map(lambda x: x[0], state_next.detach().numpy()))\n",
    "        state_next = list(state_next.detach().numpy())\n",
    "        return state_next\n",
    "    \n",
    "    def fit_one_object(self, states_actions: np.ndarray, next_states: np.ndarray):\n",
    "        states_actions = torch.from_numpy(states_actions).float()\n",
    "        next_states = torch.from_numpy(next_states).float()\n",
    "        self.optimizer.zero_grad()\n",
    "        guessies = self.model(states_actions)\n",
    "        loss = self.criterion(guessies, next_states)\n",
    "        loss.backward()\n",
    "        self.optimizer.step()\n",
    "        return loss.item()"
   ]
  },
  {
   "cell_type": "code",
   "execution_count": 47,
   "id": "41ec12db",
   "metadata": {},
   "outputs": [],
   "source": [
    "dyn = Dynamics()"
   ]
  },
  {
   "cell_type": "code",
   "execution_count": 48,
   "id": "7b4bc601",
   "metadata": {},
   "outputs": [
    {
     "name": "stdout",
     "output_type": "stream",
     "text": [
      "[-0.4491204619407654, 0.26583366334342057, 0.0]\n",
      "2\n"
     ]
    }
   ],
   "source": [
    "print(episode_trajectory_init_state)\n",
    "print(episode_trajectory_first_action)"
   ]
  },
  {
   "cell_type": "code",
   "execution_count": 49,
   "id": "8d800f98",
   "metadata": {},
   "outputs": [
    {
     "name": "stdout",
     "output_type": "stream",
     "text": [
      "tensor([-0.4491,  0.2658,  0.0000,  2.0000])\n",
      "tensor([-1.2929, -0.8188,  1.5273, -0.2378,  0.2018, -0.9289, -0.9905, -0.4895,\n",
      "        -0.0903, -0.2861,  0.4248,  0.8645, -0.8494,  1.3551, -0.4520,  0.8783,\n",
      "         0.7722, -0.1235, -0.5800, -0.2291,  0.2927, -0.6128, -0.7505, -0.0428,\n",
      "         0.3597, -0.8008, -0.2097,  0.5119, -0.4588, -0.4743, -0.1361, -0.2432,\n",
      "         0.1919,  0.7825, -0.9384,  0.1284,  0.2247, -0.3597,  1.0984,  0.9165,\n",
      "        -0.9597,  0.2246, -0.0681, -0.4799, -0.5841, -0.5992, -0.4357, -0.1403,\n",
      "         0.8285,  0.1677])\n",
      "tensor([0.0000, 0.0000, 1.5273, 0.0000, 0.2018, 0.0000, 0.0000, 0.0000, 0.0000,\n",
      "        0.0000, 0.4248, 0.8645, 0.0000, 1.3551, 0.0000, 0.8783, 0.7722, 0.0000,\n",
      "        0.0000, 0.0000, 0.2927, 0.0000, 0.0000, 0.0000, 0.3597, 0.0000, 0.0000,\n",
      "        0.5119, 0.0000, 0.0000, 0.0000, 0.0000, 0.1919, 0.7825, 0.0000, 0.1284,\n",
      "        0.2247, 0.0000, 1.0984, 0.9165, 0.0000, 0.2246, 0.0000, 0.0000, 0.0000,\n",
      "        0.0000, 0.0000, 0.0000, 0.8285, 0.1677])\n",
      "tensor([-0.1346,  0.2042,  0.3618])\n",
      "tensor([0.0000, 0.2042, 0.3618])\n"
     ]
    }
   ],
   "source": [
    "next_state = dyn.step(episode_trajectory_init_state, episode_trajectory_first_action)"
   ]
  },
  {
   "cell_type": "code",
   "execution_count": null,
   "id": "e0ef9006",
   "metadata": {},
   "outputs": [],
   "source": []
  },
  {
   "cell_type": "code",
   "execution_count": null,
   "id": "eeb7aa40",
   "metadata": {},
   "outputs": [],
   "source": []
  },
  {
   "cell_type": "code",
   "execution_count": null,
   "id": "10ccfb95",
   "metadata": {},
   "outputs": [],
   "source": []
  },
  {
   "cell_type": "code",
   "execution_count": null,
   "id": "71011ae6",
   "metadata": {},
   "outputs": [],
   "source": []
  },
  {
   "cell_type": "code",
   "execution_count": null,
   "id": "df265f84",
   "metadata": {},
   "outputs": [],
   "source": []
  },
  {
   "cell_type": "code",
   "execution_count": 4,
   "id": "fc919770",
   "metadata": {},
   "outputs": [],
   "source": [
    "class Policy:\n",
    "    def __init__(self, state_dim=3, action_dim=1):\n",
    "        self.model = DNetwork(in_dim=state_dim, out_dim=action_dim)\n",
    "        self.criterion = nn.MSELoss()\n",
    "        self.optimizer = optim.Adam(params=self.model.parameters(), lr=0.002)\n",
    "        \n",
    "    def get_action(self, state: list) -> float:\n",
    "        s = prepare_input(state)\n",
    "        with torch.no_grad():\n",
    "            action = self.model(torch.from_numpy(s).float()) # .detach().numpy()\n",
    "        action = action.detach().numpy()[0]\n",
    "        return action\n",
    "    \n",
    "    def fit_one_object(self, states: np.ndarray, actions: np.ndarray):\n",
    "        states = torch.from_numpy(states).float()\n",
    "        actions = torch.from_numpy(actions).float()\n",
    "        self.optimizer.zero_grad()\n",
    "        guessies = self.model(states)\n",
    "        loss = self.criterion(guessies, actions)\n",
    "        loss.backward()\n",
    "        self.optimizer.step()\n",
    "        return loss.item()"
   ]
  },
  {
   "cell_type": "code",
   "execution_count": null,
   "id": "f6ec882f",
   "metadata": {},
   "outputs": [],
   "source": []
  },
  {
   "cell_type": "code",
   "execution_count": null,
   "id": "f543df89",
   "metadata": {},
   "outputs": [],
   "source": []
  },
  {
   "cell_type": "code",
   "execution_count": 5,
   "id": "af57c61f",
   "metadata": {},
   "outputs": [],
   "source": [
    "class Reward:\n",
    "    def __init__(self, state_dim=3, action_dim=1):\n",
    "        self.model = DNetwork(in_dim=(state_dim+action_dim), out_dim=1)\n",
    "        self.criterion = nn.MSELoss()\n",
    "        self.optimizer = optim.Adam(params=self.model.parameters(), lr=0.002)\n",
    "    \n",
    "    def prepare_input(state: list, action: float) -> np.ndarray:\n",
    "        s = np.array(state)\n",
    "        s = s.reshape((s.shape[0], 1))\n",
    "        a = np.array([action])\n",
    "        a = a.reshape((a.shape[0], 1))\n",
    "        s_a = np.concatenate((s, a), axis=0)\n",
    "    \n",
    "    def calculate(self, state: list, action: float) -> float:\n",
    "        s_a = prepare_input(state, action)\n",
    "        with torch.no_grad():\n",
    "            reward = self.model(torch.from_numpy(s_a).float()) # .detach().numpy()\n",
    "        reward = reward.detach().numpy()[0]\n",
    "        return reward\n",
    "    \n",
    "    def fit_one_object(self, states_actions: np.ndarray, rewards: np.ndarray):\n",
    "        states_actions = torch.from_numpy(states_actions).float()\n",
    "        rewards = torch.from_numpy(rewards).float()\n",
    "        self.optimizer.zero_grad()\n",
    "        guessies = self.model(states_actions)\n",
    "        loss = self.criterion(guessies, rewards)\n",
    "        loss.backward()\n",
    "        self.optimizer.step()\n",
    "        return loss.item()"
   ]
  },
  {
   "cell_type": "code",
   "execution_count": null,
   "id": "a069fe88",
   "metadata": {},
   "outputs": [],
   "source": []
  },
  {
   "cell_type": "code",
   "execution_count": null,
   "id": "c7977257",
   "metadata": {},
   "outputs": [],
   "source": []
  },
  {
   "cell_type": "code",
   "execution_count": 6,
   "id": "f02b4d20",
   "metadata": {},
   "outputs": [],
   "source": [
    "policy = Policy()\n",
    "reward_function = Reward()\n",
    "dynamics = Dynamics()"
   ]
  },
  {
   "cell_type": "code",
   "execution_count": 7,
   "id": "7c78b66e",
   "metadata": {},
   "outputs": [],
   "source": [
    "def V(init_state, horizon):\n",
    "    gamma = 0.9\n",
    "    value = 0\n",
    "    state = init_state\n",
    "    for t in range(1, horizon):\n",
    "        action = policy.get_action(state)\n",
    "        reward = reward_function.calculate(state, action)\n",
    "        value += (gamma**t) * reward\n",
    "        state = dynamics.step(state, action)\n",
    "    return value"
   ]
  },
  {
   "cell_type": "code",
   "execution_count": 8,
   "id": "44a5b1bd",
   "metadata": {},
   "outputs": [],
   "source": [
    "def E_of_V(init_state, horizon): # TODO horizon не дан\n",
    "    N = 100\n",
    "    V_avg = sum([V(init_state, horizon) for _ in range(N)]) / N"
   ]
  },
  {
   "cell_type": "code",
   "execution_count": 9,
   "id": "0930622b",
   "metadata": {},
   "outputs": [],
   "source": [
    "# prepare data"
   ]
  },
  {
   "cell_type": "code",
   "execution_count": 10,
   "id": "65b2d952",
   "metadata": {},
   "outputs": [],
   "source": [
    "import json"
   ]
  },
  {
   "cell_type": "code",
   "execution_count": 11,
   "id": "7eeaffca",
   "metadata": {},
   "outputs": [],
   "source": [
    "with open('train.json', 'r') as json_file:\n",
    "    train = json.load(json_file)"
   ]
  },
  {
   "cell_type": "code",
   "execution_count": 17,
   "id": "1fe38c81",
   "metadata": {},
   "outputs": [
    {
     "name": "stdout",
     "output_type": "stream",
     "text": [
      "344\n",
      "343\n",
      "343\n"
     ]
    },
    {
     "data": {
      "text/plain": [
       "False"
      ]
     },
     "execution_count": 17,
     "metadata": {},
     "output_type": "execute_result"
    }
   ],
   "source": [
    "episode = 4\n",
    "\n",
    "episode_trajectory = train[episode]\n",
    "\n",
    "print(len(episode_trajectory[\"states\"]))\n",
    "print(len(episode_trajectory[\"actions\"]))\n",
    "print(len(episode_trajectory[\"rewards\"]))\n",
    "print(episode_trajectory[\"truncated\"])\n"
   ]
  },
  {
   "cell_type": "code",
   "execution_count": 19,
   "id": "df06d39b",
   "metadata": {},
   "outputs": [],
   "source": [
    "episode_trajectory_init_state = episode_trajectory[\"states\"][0]"
   ]
  },
  {
   "cell_type": "code",
   "execution_count": 20,
   "id": "81405ca6",
   "metadata": {},
   "outputs": [
    {
     "data": {
      "text/plain": [
       "[-0.4491204619407654, 0.26583366334342057, 0.0]"
      ]
     },
     "execution_count": 20,
     "metadata": {},
     "output_type": "execute_result"
    }
   ],
   "source": [
    "episode_trajectory_init_state"
   ]
  },
  {
   "cell_type": "code",
   "execution_count": 23,
   "id": "a8d89574",
   "metadata": {},
   "outputs": [],
   "source": [
    "episode_trajectory_first_action = episode_trajectory[\"actions\"][0]"
   ]
  },
  {
   "cell_type": "code",
   "execution_count": 24,
   "id": "07e57f47",
   "metadata": {},
   "outputs": [
    {
     "data": {
      "text/plain": [
       "2"
      ]
     },
     "execution_count": 24,
     "metadata": {},
     "output_type": "execute_result"
    }
   ],
   "source": [
    "episode_trajectory_first_action"
   ]
  },
  {
   "cell_type": "code",
   "execution_count": null,
   "id": "bde2d62b",
   "metadata": {},
   "outputs": [],
   "source": []
  },
  {
   "cell_type": "code",
   "execution_count": null,
   "id": "10e43f74",
   "metadata": {},
   "outputs": [],
   "source": []
  },
  {
   "cell_type": "code",
   "execution_count": null,
   "id": "7a4c3afd",
   "metadata": {},
   "outputs": [],
   "source": [
    "# fit models"
   ]
  },
  {
   "cell_type": "code",
   "execution_count": null,
   "id": "52d4b9d2",
   "metadata": {},
   "outputs": [],
   "source": []
  },
  {
   "cell_type": "code",
   "execution_count": null,
   "id": "ec01f9fd",
   "metadata": {},
   "outputs": [],
   "source": [
    "# submit solution"
   ]
  },
  {
   "cell_type": "code",
   "execution_count": null,
   "id": "44d7370b",
   "metadata": {},
   "outputs": [],
   "source": [
    "import json\n",
    "from random import random\n",
    "\n",
    "\n",
    "def main():\n",
    "    # считываем данные\n",
    "    with open('train.json', 'r') as json_file:\n",
    "        train = json.load(json_file)\n",
    "\n",
    "    # посмотрим на информацию, доступную в нулевом эпизоде\n",
    "    print(train[0].keys())\n",
    "\n",
    "    # напечатаем возможные действия\n",
    "    print(set(train[0]['actions']))\n",
    "\n",
    "    # считываем данные, для которых нужно сделать предсказание\n",
    "    with open('submit.json', 'r') as json_file:\n",
    "        submit = json.load(json_file)\n",
    "\n",
    "    # заполним поле V случайными числами\n",
    "    for idx, item in enumerate(submit):\n",
    "        state = item['state']\n",
    "        item['V'] = random()\n",
    "\n",
    "    # записываем предсказания в файл\n",
    "    with open('solution.json', 'w') as json_file:\n",
    "        json.dump(submit, json_file)\n"
   ]
  },
  {
   "cell_type": "code",
   "execution_count": null,
   "id": "cb590f71",
   "metadata": {},
   "outputs": [],
   "source": []
  },
  {
   "cell_type": "code",
   "execution_count": null,
   "id": "bbc17cc0",
   "metadata": {},
   "outputs": [],
   "source": [
    "\n",
    "class Agent:\n",
    "\n",
    "    def __init__(self):\n",
    "        self.model = DNetwork()\n",
    "\n",
    "        self.model_shapes = []\n",
    "\n",
    "        orig_model = copy.deepcopy(self.model)\n",
    "\n",
    "        for param in orig_model.parameters():\n",
    "            p = param.data.cpu().numpy()\n",
    "            self.model_shapes.append(p.shape)\n",
    "\n",
    "        self.criterion = nn.MSELoss()\n",
    "        self.optimizer = optim.Adam(params=self.model.parameters(), lr=0.002)\n",
    "\n",
    "\n",
    "#         self.Norm = torch.distributions.multivariate_normal.MultivariateNormal\n",
    "\n",
    "#         self.sigma = torch.tensor(0.1)\n",
    "\n",
    "        self.sigma = 0.001\n",
    "\n",
    "        self.last_laier = []\n",
    "\n",
    "\n",
    "    def updateParams(self, flat_param: np.array):\n",
    "        idx = 0\n",
    "        i = 0\n",
    "\n",
    "        for param in self.model.parameters():\n",
    "            delta = np.product(self.model_shapes[i])\n",
    "            block = flat_param[idx:idx + delta]\n",
    "            block = np.reshape(block, self.model_shapes[i])\n",
    "            i += 1\n",
    "            idx += delta\n",
    "            block_data = torch.from_numpy(block).float()\n",
    "\n",
    "            param.data = block_data\n",
    "\n",
    "\n",
    "    def getAction(self, state):\n",
    "\n",
    "        with torch.no_grad():\n",
    "\n",
    "            mu = self.model(torch.from_numpy(state).float()) # .detach().numpy()\n",
    "\n",
    "        self.last_laier = copy.deepcopy(mu.numpy())\n",
    "\n",
    "        action = multivariate_normal(mean=mu.numpy(), cov=self.sigma*np.eye(self.model.action_dim)).rvs(size=1) # copy.deepcopy(mu.numpy()) #\n",
    "\n",
    "        np.clip(action, -1, 1, out= action)\n",
    "\n",
    "        return action\n",
    "\n",
    "    def fit(self, states, actions):\n",
    "\n",
    "        states = torch.from_numpy(states).float()\n",
    "        actions = torch.from_numpy(actions).float()\n",
    "\n",
    "        #self.model.train()\n",
    "\n",
    "        self.optimizer.zero_grad()\n",
    "\n",
    "        guessies = self.model(states)\n",
    "        loss = self.criterion(guessies, actions)\n",
    "        loss.backward()\n",
    "        self.optimizer.step()\n",
    "\n",
    "        return loss.item()"
   ]
  },
  {
   "cell_type": "code",
   "execution_count": null,
   "id": "a55aa8d3",
   "metadata": {},
   "outputs": [],
   "source": []
  }
 ],
 "metadata": {
  "kernelspec": {
   "display_name": "Python 3 (ipykernel)",
   "language": "python",
   "name": "python3"
  },
  "language_info": {
   "codemirror_mode": {
    "name": "ipython",
    "version": 3
   },
   "file_extension": ".py",
   "mimetype": "text/x-python",
   "name": "python",
   "nbconvert_exporter": "python",
   "pygments_lexer": "ipython3",
   "version": "3.10.6"
  }
 },
 "nbformat": 4,
 "nbformat_minor": 5
}
