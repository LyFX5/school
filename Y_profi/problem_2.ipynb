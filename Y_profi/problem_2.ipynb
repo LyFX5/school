{
 "cells": [
  {
   "cell_type": "code",
   "execution_count": 1,
   "metadata": {
    "collapsed": true,
    "ExecuteTime": {
     "start_time": "2023-04-07T20:00:52.756261Z",
     "end_time": "2023-04-07T20:00:52.867423Z"
    }
   },
   "outputs": [],
   "source": [
    "import numpy as np"
   ]
  },
  {
   "cell_type": "code",
   "execution_count": 2,
   "outputs": [
    {
     "ename": "FileNotFoundError",
     "evalue": "[Errno 2] No such file or directory: 'input.txt'",
     "output_type": "error",
     "traceback": [
      "\u001B[0;31m---------------------------------------------------------------------------\u001B[0m",
      "\u001B[0;31mFileNotFoundError\u001B[0m                         Traceback (most recent call last)",
      "Input \u001B[0;32mIn [2]\u001B[0m, in \u001B[0;36m<cell line: 18>\u001B[0;34m()\u001B[0m\n\u001B[1;32m     15\u001B[0m     w_ \u001B[38;5;241m=\u001B[39m A \u001B[38;5;241m@\u001B[39m X\u001B[38;5;241m.\u001B[39mT \u001B[38;5;241m@\u001B[39m Sigma2_inv \u001B[38;5;241m@\u001B[39m y\n\u001B[1;32m     16\u001B[0m     \u001B[38;5;28;01mreturn\u001B[39;00m w_\n\u001B[0;32m---> 18\u001B[0m N, M, X, y, Sigma2 \u001B[38;5;241m=\u001B[39m \u001B[43mread_problem\u001B[49m\u001B[43m(\u001B[49m\u001B[38;5;124;43m'\u001B[39;49m\u001B[38;5;124;43minput.txt\u001B[39;49m\u001B[38;5;124;43m'\u001B[39;49m\u001B[43m)\u001B[49m\n\u001B[1;32m     19\u001B[0m w_ \u001B[38;5;241m=\u001B[39m est_w_ref(X, y, Sigma2)\n\u001B[1;32m     21\u001B[0m write_solution(w_, \u001B[38;5;124m'\u001B[39m\u001B[38;5;124moutput.txt\u001B[39m\u001B[38;5;124m'\u001B[39m)\n",
      "Input \u001B[0;32mIn [2]\u001B[0m, in \u001B[0;36mread_problem\u001B[0;34m(path)\u001B[0m\n\u001B[1;32m      1\u001B[0m \u001B[38;5;28;01mdef\u001B[39;00m \u001B[38;5;21mread_problem\u001B[39m(path):\n\u001B[0;32m----> 2\u001B[0m     \u001B[38;5;28;01mwith\u001B[39;00m \u001B[38;5;28;43mopen\u001B[39;49m\u001B[43m(\u001B[49m\u001B[43mpath\u001B[49m\u001B[43m,\u001B[49m\u001B[43m \u001B[49m\u001B[38;5;124;43m'\u001B[39;49m\u001B[38;5;124;43mr\u001B[39;49m\u001B[38;5;124;43m'\u001B[39;49m\u001B[43m)\u001B[49m \u001B[38;5;28;01mas\u001B[39;00m f:\n\u001B[1;32m      3\u001B[0m         N, M \u001B[38;5;241m=\u001B[39m \u001B[38;5;28mlist\u001B[39m(\u001B[38;5;28mmap\u001B[39m(\u001B[38;5;28mint\u001B[39m, f\u001B[38;5;241m.\u001B[39mreadline()\u001B[38;5;241m.\u001B[39msplit()))\n\u001B[1;32m      4\u001B[0m         X \u001B[38;5;241m=\u001B[39m np\u001B[38;5;241m.\u001B[39mloadtxt(f, max_rows\u001B[38;5;241m=\u001B[39mN)\n",
      "\u001B[0;31mFileNotFoundError\u001B[0m: [Errno 2] No such file or directory: 'input.txt'"
     ]
    }
   ],
   "source": [
    "def read_problem(path):\n",
    "    with open(path, 'r') as f:\n",
    "        N, M = list(map(int, f.readline().split()))\n",
    "        X = np.loadtxt(f, max_rows=N)\n",
    "        y = np.loadtxt(f, max_rows=N)\n",
    "        Sigma2 = np.loadtxt(f)\n",
    "    return  N, M, X, y, Sigma2\n",
    "\n",
    "def write_solution(w, path):\n",
    "    np.savetxt(path, w)\n",
    "\n",
    "def est_w_ref(X, y, Sigma2):\n",
    "    Sigma2_inv = np.linalg.inv(Sigma2)\n",
    "    A = np.linalg.inv(X.T @ Sigma2_inv @ X)\n",
    "    w_ = A @ X.T @ Sigma2_inv @ y\n",
    "    return w_\n",
    "\n",
    "N, M, X, y, Sigma2 = read_problem('input.txt')\n",
    "w_ = est_w_ref(X, y, Sigma2)\n",
    "\n",
    "write_solution(w_, 'output.txt')"
   ],
   "metadata": {
    "collapsed": false
   }
  },
  {
   "cell_type": "code",
   "execution_count": null,
   "outputs": [],
   "source": [],
   "metadata": {
    "collapsed": false
   }
  }
 ],
 "metadata": {
  "kernelspec": {
   "display_name": "Python 3",
   "language": "python",
   "name": "python3"
  },
  "language_info": {
   "codemirror_mode": {
    "name": "ipython",
    "version": 2
   },
   "file_extension": ".py",
   "mimetype": "text/x-python",
   "name": "python",
   "nbconvert_exporter": "python",
   "pygments_lexer": "ipython2",
   "version": "2.7.6"
  }
 },
 "nbformat": 4,
 "nbformat_minor": 0
}
