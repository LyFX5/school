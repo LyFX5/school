{
 "cells": [
  {
   "cell_type": "code",
   "execution_count": 2,
   "id": "95067fb7",
   "metadata": {},
   "outputs": [
    {
     "name": "stdout",
     "output_type": "stream",
     "text": [
      "327463284772374812\n",
      "327 463 284 772 374 812\n"
     ]
    }
   ],
   "source": [
    "num = input()\n",
    "\n",
    "newNum = ''\n",
    "\n",
    "n = len(num)\n",
    "\n",
    "for i in range(1, n+1):\n",
    "\n",
    "\tdig = num[n-i]\n",
    "\n",
    "\tnewNum = dig + newNum\n",
    "\n",
    "\tif i % 3 == 0 and i != n:\n",
    "\t\tnewNum = ' ' + newNum\n",
    "\n",
    "print(newNum)"
   ]
  },
  {
   "cell_type": "code",
   "execution_count": 8,
   "id": "de7b7315",
   "metadata": {},
   "outputs": [
    {
     "name": "stdout",
     "output_type": "stream",
     "text": [
      "Алексей Агранович — режиссер, актер театра и кино.   Он, в частности, сыграл главную роль в фильме \"Юморист\" (2019 год)   режиссера Михаила Идова. В \"Гоголь-центре\" он   сыграл две роли в \"Маленьких трагедиях\", за которые   был номинирован на театральную премию \"Золотая маска\" за лучшую мужскую роль.\n",
      "Алексей Агранович — режиссер, актер театра и кино.   Он, в частности, сыграл главную роль в фильме «Юморист» (2019 год)   режиссера Михаила Идова. В «Гоголь-центре» он   сыграл две роли в «Маленьких трагедиях», за которые   был номинирован на театральную премию «Золотая маска» за лучшую мужскую роль.\n"
     ]
    }
   ],
   "source": [
    "\n",
    "text = input()\n",
    "\n",
    "quote_num = 0\n",
    "\n",
    "new_text = ''\n",
    "\n",
    "for i in range(len(text)):\n",
    "\n",
    "    if text[i] == '\"':\n",
    "        quote_num += 1\n",
    "\n",
    "        if quote_num % 2 == 0:\n",
    "            new_text += '»'\n",
    "        else:\n",
    "            new_text += \"«\"\n",
    "    else:\n",
    "        new_text += text[i]\n",
    "\n",
    "print(new_text)"
   ]
  },
  {
   "cell_type": "code",
   "execution_count": 11,
   "id": "3e88282d",
   "metadata": {},
   "outputs": [
    {
     "name": "stdout",
     "output_type": "stream",
     "text": [
      "Популярная блогерша и мать троих детей раскрыла секрет воспитания\n",
      "Популярная Блогерша И Мать Троих Детей Раскрыла Секрет Воспитания\n"
     ]
    }
   ],
   "source": [
    "\n",
    "sent = input()\n",
    "\n",
    "new_sent = ''\n",
    "\n",
    "for i in range(len(sent)):\n",
    "\n",
    "\tif (i == 0 or sent[i-1] == ' ') and sent[i].isalpha():\n",
    "\t\tnew_sent += sent[i].upper()\n",
    "\telse:\n",
    "\t\tnew_sent += sent[i]\n",
    "\n",
    "\n",
    "print(new_sent)"
   ]
  },
  {
   "cell_type": "code",
   "execution_count": 35,
   "id": "f293f017",
   "metadata": {},
   "outputs": [],
   "source": [
    "\n",
    "import sys \n",
    "\n",
    "def number(i):\n",
    "    num = ''\n",
    "    I = str(i)\n",
    "    for j in range(4 - len(I)):\n",
    "        num += ' '\n",
    "        \n",
    "    num += I + ' '\n",
    "    \n",
    "    return num\n",
    "\n",
    "i = 1\n",
    "\n",
    "for line in sys.stdin:\n",
    "    line = line.rstrip()\n",
    "    \n",
    "  \n",
    "    print(number(i) + line )\n",
    "    \n",
    "    i += 1\n",
    "\n",
    "\n",
    "\n",
    "\n"
   ]
  },
  {
   "cell_type": "code",
   "execution_count": 36,
   "id": "db9db59e",
   "metadata": {},
   "outputs": [
    {
     "name": "stdout",
     "output_type": "stream",
     "text": [
      "0\n"
     ]
    }
   ],
   "source": [
    "\n",
    "import sys \n",
    "\n",
    "i = 1\n",
    "total = 0\n",
    "\n",
    "for line in sys.stdin:\n",
    "    line = line.rstrip()\n",
    "\n",
    "    if i % 2 == 0:\n",
    "        total += int(line)\n",
    "    \n",
    "    i += 1\n",
    "\n",
    "print(total)\n"
   ]
  },
  {
   "cell_type": "code",
   "execution_count": 2,
   "id": "572d835b",
   "metadata": {},
   "outputs": [
    {
     "name": "stdout",
     "output_type": "stream",
     "text": [
      "+74444444444444\n",
      "<a href=\"tel:+74444444444444\">+74444444444444</a>\n"
     ]
    }
   ],
   "source": [
    "phone = input()\n",
    "\n",
    "s1 = '<a href=\"tel:'\n",
    "s2 = phone\n",
    "s3 = '\">'\n",
    "s4 = '</a>'\n",
    "\n",
    "print(s1 + s2 + s3 + s2 + s4)"
   ]
  },
  {
   "cell_type": "code",
   "execution_count": 39,
   "id": "9150b58e",
   "metadata": {},
   "outputs": [
    {
     "name": "stdout",
     "output_type": "stream",
     "text": [
      "0 0 0 0 "
     ]
    }
   ],
   "source": [
    "\n",
    "import sys \n",
    "\n",
    "\n",
    "#dna = sys.stdin.read()\n",
    "\n",
    "ns = ['a', 'c', 'g', 't']\n",
    "nucl = dict.fromkeys(ns, 0)\n",
    "nucl_s = set(ns)\n",
    "\n",
    "for line in sys.stdin:\n",
    "    dna_line = line.rstrip()\n",
    "\n",
    "    for char in dna_line:\n",
    "        if char in nucl_s:\n",
    "            nucl[char] += 1\n",
    "\n",
    "for n in ns:\n",
    "    print(nucl[n], end=' ')\n",
    "\n",
    "\n",
    "\n",
    "\n",
    "\n",
    "\n"
   ]
  },
  {
   "cell_type": "code",
   "execution_count": 40,
   "id": "811ff21c",
   "metadata": {},
   "outputs": [],
   "source": [
    "# MENU\n",
    "\n",
    "\n",
    "def form(num):\n",
    "    \n",
    "    if len(num) <= 3:\n",
    "        return num\n",
    "    \n",
    "    else:\n",
    "        \n",
    "        newNum = ''\n",
    "\n",
    "        n = len(num)\n",
    "\n",
    "        for i in range(1, n+1):\n",
    "\n",
    "            dig = num[n-i]\n",
    "\n",
    "            newNum = dig + newNum\n",
    "\n",
    "            if i % 3 == 0 and i != n:\n",
    "                newNum = ' ' + newNum\n",
    "\n",
    "        return newNum\n",
    "\n",
    "\n",
    "\n",
    "def exchange(price):\n",
    "\n",
    "    dolar = ''\n",
    "    \n",
    "    end = ''\n",
    "\n",
    "    for char in price:\n",
    "        if char.isnumeric():\n",
    "            dolar += char\n",
    "        elif char != '$':\n",
    "            end += char\n",
    "    \n",
    "    rub = str(int(dolar) * 75)\n",
    "    \n",
    "    return form(rub) + 'р' + end\n",
    "    \n",
    "import sys\n",
    "    \n",
    "for line in sys.stdin:\n",
    "    menu = line.rstrip().split()\n",
    "    \n",
    "    new_menu = ''\n",
    "    \n",
    "    for i in range(len(menu)):\n",
    "\n",
    "        if menu[i][0] == '$':\n",
    "            new_menu += exchange(menu[i])\n",
    "\n",
    "        else:\n",
    "            new_menu += menu[i]\n",
    "\n",
    "        if i != len(menu)-1:\n",
    "            new_menu += ' '\n",
    "\n",
    "\n",
    "    print(new_menu)\n",
    "\n"
   ]
  },
  {
   "cell_type": "code",
   "execution_count": 51,
   "id": "cd60930d",
   "metadata": {},
   "outputs": [
    {
     "name": "stdout",
     "output_type": "stream",
     "text": [
      "4604075024434\n",
      "no\n"
     ]
    }
   ],
   "source": [
    "\n",
    "\n",
    "import math as m\n",
    "\n",
    "num = int(input())\n",
    "\n",
    "n = round(m.log(num, 10))\n",
    "\n",
    "num_ar = []\n",
    "\n",
    "for i in range(n):\n",
    "    \n",
    "    dig = num % 10\n",
    "    \n",
    "    num_ar.append(dig)\n",
    "    \n",
    "    num = num // 10\n",
    "    \n",
    "odds = []\n",
    "evens = []\n",
    "\n",
    "for i in range(1,n+1):\n",
    "    \n",
    "    if i % 2 == 0:\n",
    "        evens.append(num_ar[n-i])\n",
    "        \n",
    "    else:\n",
    "        odds.append(num_ar[n-i])\n",
    "    \n",
    "\n",
    "if (sum(odds) + 3*sum(evens)) % 10 == 0:\n",
    "    print('yes')\n",
    "else:\n",
    "    print('no')\n",
    "    \n",
    "    \n",
    "    \n",
    "    \n",
    "    "
   ]
  },
  {
   "cell_type": "code",
   "execution_count": 67,
   "id": "9943f95d",
   "metadata": {},
   "outputs": [
    {
     "name": "stdout",
     "output_type": "stream",
     "text": [
      "4\n",
      " 7  8  9 10 \n",
      " 6  1  2 11 \n",
      " 5  4  3 12 \n",
      "16 15 14 13 \n"
     ]
    }
   ],
   "source": [
    "# Спираль\n",
    "\n",
    "'''\n",
    "211 212 213 214 215 216 217 218 219 220 221 222 223 224 225  \n",
    "210 157 158 159 160 161 162 163 164 165 166 167 168 169 170  \n",
    "209 156 111 112 113 114 115 116 117 118 119 120 121 122 171  \n",
    "208 155 110  73  74  75  76  77  78  79  80  81  82 123 172  \n",
    "207 154 109  72  43  44  45  46  47  48  49  50  83 124 173  \n",
    "206 153 108  71  42  21  22  23  24  25  26  51  84 125 174  \n",
    "205 152 107  70  41  20   7   8   9  10  27  52  85 126 175  \n",
    "204 151 106  69  40  19   6   1   2  11  28  53  86 127 176  \n",
    "203 150 105  68  39  18   5   4   3  12  29  54  87 128 177  \n",
    "202 149 104  67  38  17  16  15  14  13  30  55  88 129 178  \n",
    "201 148 103  66  37  36  35  34  33  32  31  56  89 130 179  \n",
    "200 147 102  65  64  63  62  61  60  59  58  57  90 131 180  \n",
    "199 146 101 100  99  98  97  96  95  94  93  92  91 132 181  \n",
    "198 145 144 143 142 141 140 139 138 137 136 135 134 133 182  \n",
    "197 196 195 194 193 192 191 190 189 188 187 186 185 184 183\n",
    "\n",
    "15\n",
    "'''\n",
    "\n",
    "n = int(input())\n",
    "\n",
    "N = n*n\n",
    "\n",
    "M = []\n",
    "\n",
    "for i in range(n):\n",
    "    row = []\n",
    "    for j in range(n):\n",
    "        row.append(0)\n",
    "    M.append(row)     \n",
    "    \n",
    "    \n",
    "x = n//2\n",
    "y = n//2\n",
    "\n",
    "if N % 2 == 0:\n",
    "    x = x - 1\n",
    "    y = y - 1\n",
    "    \n",
    "num = 1\n",
    "diametr = 1\n",
    "M[y][x] = num\n",
    "\n",
    "while num < N:\n",
    "    \n",
    "    for R in range(diametr):\n",
    "        x += 1\n",
    "        num += 1\n",
    "        if num <= N:\n",
    "            M[y][x] = num\n",
    "        \n",
    "    for B in range(diametr):\n",
    "        y += 1\n",
    "        num += 1\n",
    "        if num <= N:\n",
    "            M[y][x] = num \n",
    "    \n",
    "    for L in range(diametr + 1):\n",
    "        x -= 1\n",
    "        num += 1\n",
    "        if num <= N:\n",
    "            M[y][x] = num\n",
    "        \n",
    "    for T in range(diametr + 1):\n",
    "        y -= 1\n",
    "        num += 1\n",
    "        if num <= N:\n",
    "            M[y][x] = num\n",
    "        \n",
    "    diametr += 2\n",
    "\n",
    "def number_format(i):\n",
    "    global N\n",
    "    \n",
    "    num = ''\n",
    "    I = str(i)\n",
    "    for j in range(len(str(N)) - len(I)):\n",
    "        num += ' '\n",
    "        \n",
    "    num += I + ' '\n",
    "    \n",
    "    return num\n",
    "\n",
    "\n",
    "for i in range(n):\n",
    "    for j in range(n):\n",
    "        print(number_format(int(M[i][j])), end='')\n",
    "    print()\n",
    "\n"
   ]
  }
 ],
 "metadata": {
  "kernelspec": {
   "display_name": "Python 3 (ipykernel)",
   "language": "python",
   "name": "python3"
  },
  "language_info": {
   "codemirror_mode": {
    "name": "ipython",
    "version": 3
   },
   "file_extension": ".py",
   "mimetype": "text/x-python",
   "name": "python",
   "nbconvert_exporter": "python",
   "pygments_lexer": "ipython3",
   "version": "3.9.7"
  }
 },
 "nbformat": 4,
 "nbformat_minor": 5
}
