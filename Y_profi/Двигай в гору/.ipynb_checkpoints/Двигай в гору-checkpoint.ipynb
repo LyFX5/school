{
 "cells": [
  {
   "cell_type": "code",
   "execution_count": null,
   "id": "15f23bba",
   "metadata": {},
   "outputs": [],
   "source": [
    "import json\n",
    "from random import random\n",
    "\n",
    "\n",
    "def main():\n",
    "    # считываем данные\n",
    "    with open('train.json', 'r') as json_file:\n",
    "        train = json.load(json_file)\n",
    "\n",
    "    # посмотрим на информацию, доступную в нулевом эпизоде\n",
    "    print(train[0].keys())\n",
    "\n",
    "    # напечатаем возможные действия\n",
    "    print(set(train[0]['actions']))\n",
    "\n",
    "    # считываем данные, для которых нужно сделать предсказание\n",
    "    with open('submit.json', 'r') as json_file:\n",
    "        submit = json.load(json_file)\n",
    "\n",
    "    # заполним поле V случайными числами\n",
    "    for idx, item in enumerate(submit):\n",
    "        state = item['state']\n",
    "        item['V'] = random()\n",
    "\n",
    "    # записываем предсказания в файл\n",
    "    with open('solution.json', 'w') as json_file:\n",
    "        json.dump(submit, json_file)\n"
   ]
  }
 ],
 "metadata": {
  "kernelspec": {
   "display_name": "Python 3 (ipykernel)",
   "language": "python",
   "name": "python3"
  },
  "language_info": {
   "codemirror_mode": {
    "name": "ipython",
    "version": 3
   },
   "file_extension": ".py",
   "mimetype": "text/x-python",
   "name": "python",
   "nbconvert_exporter": "python",
   "pygments_lexer": "ipython3",
   "version": "3.10.6"
  }
 },
 "nbformat": 4,
 "nbformat_minor": 5
}
