{
 "cells": [
  {
   "cell_type": "code",
   "execution_count": null,
   "metadata": {
    "collapsed": true
   },
   "outputs": [],
   "source": [
    "# Предсказание давления в нефтяной скважине. 20 бал-\n",
    "# лов\n",
    "#\n",
    "\n",
    "# В задаче вам необходимо предсказать давление на приёме нефтяной скважины, используя\n",
    "# 7 следующих параметров:\n",
    "# • диаметр экспл. колонны,\n",
    "# • буферное давление,\n",
    "# • давление в линии,\n",
    "# • динамическая высота,\n",
    "# • затрубное давление,\n",
    "# • обводненность,\n",
    "# • глубина спуска.\n",
    "\n",
    "# Оптимальное решение достигается, например, с помощью алгоритма градиентного бу-\n",
    "# стинга"
   ]
  }
 ],
 "metadata": {
  "kernelspec": {
   "display_name": "Python 3",
   "language": "python",
   "name": "python3"
  },
  "language_info": {
   "codemirror_mode": {
    "name": "ipython",
    "version": 2
   },
   "file_extension": ".py",
   "mimetype": "text/x-python",
   "name": "python",
   "nbconvert_exporter": "python",
   "pygments_lexer": "ipython2",
   "version": "2.7.6"
  }
 },
 "nbformat": 4,
 "nbformat_minor": 0
}
