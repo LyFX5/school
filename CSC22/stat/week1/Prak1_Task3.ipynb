{
 "cells": [
  {
   "cell_type": "code",
   "execution_count": 1,
   "metadata": {},
   "outputs": [
    {
     "data": {
      "text/plain": [
       "'\\nИскусственный интеллект TSATPWTCOTTTADC решил определять пол людей в России по их росту: всех, кто выше 170 см, \\n\\nон относит к мужчинам, а всех, кто ниже, — к женщинам.\\n\\nПредположим, что рост мужчин имеет нормальное распределение N(176,62)\\\\mathcal{N}(176, 6^2)N(176,62) см, \\n\\nа женщин — N(165,52)\\\\mathcal{N}(165, 5^2)N(165,52) см. \\n\\nКроме того, предположим, что на одну женщину приходится 0.86 мужчин.\\n\\nОцените вероятность правильной классификации искусственного интеллекта.\\n\\n'"
      ]
     },
     "execution_count": 1,
     "metadata": {},
     "output_type": "execute_result"
    }
   ],
   "source": [
    "'''\n",
    "Искусственный интеллект TSATPWTCOTTTADC решил определять пол людей в России по их росту: всех, кто выше 170 см, \n",
    "\n",
    "он относит к мужчинам, а всех, кто ниже, — к женщинам.\n",
    "\n",
    "Предположим, что рост мужчин имеет нормальное распределение N(176,62)\\mathcal{N}(176, 6^2)N(176,62) см, \n",
    "\n",
    "а женщин — N(165,52)\\mathcal{N}(165, 5^2)N(165,52) см. \n",
    "\n",
    "Кроме того, предположим, что на одну женщину приходится 0.86 мужчин.\n",
    "\n",
    "Оцените вероятность правильной классификации искусственного интеллекта.\n",
    "\n",
    "'''"
   ]
  },
  {
   "cell_type": "code",
   "execution_count": 11,
   "metadata": {},
   "outputs": [],
   "source": [
    "import scipy.stats as sps\n",
    "import numpy as np\n",
    "import ipywidgets as widgets\n",
    "import matplotlib.pyplot as plt\n",
    "%matplotlib inline"
   ]
  },
  {
   "cell_type": "code",
   "execution_count": 16,
   "metadata": {},
   "outputs": [],
   "source": [
    "import random"
   ]
  },
  {
   "cell_type": "code",
   "execution_count": 17,
   "metadata": {},
   "outputs": [],
   "source": [
    "def generatePerson():\n",
    "    rand_un = random.random()\n",
    "    if rand_un <= 100/186:\n",
    "        person = 0 # weman\n",
    "        stature = sps.norm(loc=165, scale=5).rvs(size=1)\n",
    "    else:\n",
    "        person = 1 # man\n",
    "        stature = sps.norm(loc=176, scale=6).rvs(size=1)\n",
    "        \n",
    "    return [person, stature]"
   ]
  },
  {
   "cell_type": "code",
   "execution_count": 18,
   "metadata": {},
   "outputs": [],
   "source": [
    "def askAI(stature):\n",
    "    if stature >= 170:\n",
    "        return 1\n",
    "    else:\n",
    "        return 0"
   ]
  },
  {
   "cell_type": "code",
   "execution_count": 19,
   "metadata": {},
   "outputs": [],
   "source": [
    "X = []\n",
    "Y = []\n",
    "Prediction = []\n",
    "Error = []"
   ]
  },
  {
   "cell_type": "code",
   "execution_count": 24,
   "metadata": {},
   "outputs": [],
   "source": [
    "for i in range(10000):\n",
    "    [person, stature] = generatePerson()\n",
    "    X.append(stature)\n",
    "    Y.append(person)\n",
    "    Prediction = askAI(stature)\n",
    "    Error.append(abs(Prediction - person))"
   ]
  },
  {
   "cell_type": "code",
   "execution_count": 25,
   "metadata": {},
   "outputs": [
    {
     "name": "stdout",
     "output_type": "stream",
     "text": [
      "0.8389189189189189\n"
     ]
    }
   ],
   "source": [
    "print(1 - sum(Error)/len(Error)) # 1 минус боля ошибки это вероятность правильного ответа"
   ]
  },
  {
   "cell_type": "code",
   "execution_count": 1,
   "metadata": {},
   "outputs": [],
   "source": [
    "import scipy.stats as ss\n",
    "import numpy as np"
   ]
  },
  {
   "cell_type": "code",
   "execution_count": 2,
   "metadata": {},
   "outputs": [],
   "source": [
    "def generate(n):\n",
    "    return ss.cauchy(scale=50).rvs(size=n)"
   ]
  },
  {
   "cell_type": "code",
   "execution_count": 3,
   "metadata": {},
   "outputs": [
    {
     "name": "stdout",
     "output_type": "stream",
     "text": [
      "1.179611963664229e-19\n"
     ]
    }
   ],
   "source": [
    "n = 1000\n",
    "\n",
    "Ds = []\n",
    "\n",
    "for i in range(1000):\n",
    "    sample = generate(n)\n",
    "    med = np.median(sample)\n",
    "    \n",
    "    D = np.median(sample - med * np.ones_like(sample))\n",
    "    Ds.append(D)\n",
    "\n",
    "print(sum(Ds) / len(Ds))"
   ]
  },
  {
   "cell_type": "code",
   "execution_count": null,
   "metadata": {},
   "outputs": [],
   "source": []
  },
  {
   "cell_type": "code",
   "execution_count": null,
   "metadata": {},
   "outputs": [],
   "source": []
  },
  {
   "cell_type": "code",
   "execution_count": 2,
   "metadata": {},
   "outputs": [],
   "source": [
    "\n",
    "def weighted_std(sample: np.array, weights: np.array):\n",
    "    M = np.dot(sample,weights)\n",
    "    mean = M * np.ones_like(sample)\n",
    "    difs = sample - mean\n",
    "    \n",
    "    W = np.diag(weights)\n",
    "    \n",
    "    D = np.dot(sample.T, np.dot(W, sample))\n",
    "   \n",
    "    return D**0.5"
   ]
  },
  {
   "cell_type": "code",
   "execution_count": 3,
   "metadata": {},
   "outputs": [],
   "source": [
    "def generate(n):\n",
    "    return ss.cauchy(scale=2).rvs(size=n)"
   ]
  },
  {
   "cell_type": "code",
   "execution_count": 4,
   "metadata": {},
   "outputs": [],
   "source": [
    "\n",
    "Ds = []\n",
    "\n",
    "for i in range(1000):\n",
    "    sample = generate(1000)\n",
    "    weights = np.ones_like(sample) / len(sample)\n",
    "    \n",
    "    Ds.append(weighted_std(sample, weights))\n",
    "    \n",
    "    \n",
    "    \n"
   ]
  },
  {
   "cell_type": "code",
   "execution_count": 5,
   "metadata": {},
   "outputs": [
    {
     "name": "stdout",
     "output_type": "stream",
     "text": [
      "250.9101510314563\n"
     ]
    }
   ],
   "source": [
    "print(sum(Ds) / len(Ds))"
   ]
  },
  {
   "cell_type": "code",
   "execution_count": 9,
   "metadata": {},
   "outputs": [],
   "source": [
    "M = np.dot(sample,weights)"
   ]
  },
  {
   "cell_type": "code",
   "execution_count": 10,
   "metadata": {},
   "outputs": [
    {
     "data": {
      "text/plain": [
       "222.56558717276602"
      ]
     },
     "execution_count": 10,
     "metadata": {},
     "output_type": "execute_result"
    }
   ],
   "source": [
    "M"
   ]
  },
  {
   "cell_type": "code",
   "execution_count": null,
   "metadata": {},
   "outputs": [],
   "source": []
  }
 ],
 "metadata": {
  "kernelspec": {
   "display_name": "Python 3",
   "language": "python",
   "name": "python3"
  },
  "language_info": {
   "codemirror_mode": {
    "name": "ipython",
    "version": 3
   },
   "file_extension": ".py",
   "mimetype": "text/x-python",
   "name": "python",
   "nbconvert_exporter": "python",
   "pygments_lexer": "ipython3",
   "version": "3.7.6"
  }
 },
 "nbformat": 4,
 "nbformat_minor": 4
}
