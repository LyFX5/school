{
 "cells": [
  {
   "cell_type": "code",
   "execution_count": 1,
   "metadata": {
    "collapsed": true,
    "ExecuteTime": {
     "start_time": "2023-04-07T20:37:22.124434Z",
     "end_time": "2023-04-07T20:37:22.169904Z"
    }
   },
   "outputs": [],
   "source": [
    "# Это задача классификации анонимизированных сообщений в социальной сети ВКонтакте\n",
    "# по заданным классам (темам). Предлагаемый набор данных включает в себя 50 тем. Тек-\n",
    "# сты и изображения в сообщениях представлены в закодированном виде — в виде векторов\n",
    "# (эмбеддингов) размерами 300 и 1024 соответственно.\n",
    "\n",
    "# Оптимальное решение достигается с помощью архитектуры полносвязной нейронной се-\n",
    "# ти, применённой к признакам, выделенным из данных"
   ]
  },
  {
   "cell_type": "code",
   "execution_count": null,
   "outputs": [],
   "source": [],
   "metadata": {
    "collapsed": false
   }
  }
 ],
 "metadata": {
  "kernelspec": {
   "display_name": "Python 3",
   "language": "python",
   "name": "python3"
  },
  "language_info": {
   "codemirror_mode": {
    "name": "ipython",
    "version": 2
   },
   "file_extension": ".py",
   "mimetype": "text/x-python",
   "name": "python",
   "nbconvert_exporter": "python",
   "pygments_lexer": "ipython2",
   "version": "2.7.6"
  }
 },
 "nbformat": 4,
 "nbformat_minor": 0
}
