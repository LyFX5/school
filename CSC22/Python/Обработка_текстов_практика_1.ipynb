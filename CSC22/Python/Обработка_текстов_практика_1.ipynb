{
 "cells": [
  {
   "cell_type": "code",
   "execution_count": null,
   "id": "12828ee9",
   "metadata": {},
   "outputs": [],
   "source": [
    "with open(\"Наследник из Калькуты.txt\")"
   ]
  },
  {
   "cell_type": "code",
   "execution_count": null,
   "id": "99843a56",
   "metadata": {},
   "outputs": [],
   "source": []
  },
  {
   "cell_type": "code",
   "execution_count": 1,
   "id": "ca03a886",
   "metadata": {},
   "outputs": [
    {
     "data": {
      "text/plain": [
       "['абажур',\n",
       " 'абажурчик',\n",
       " 'абаз',\n",
       " 'абазин',\n",
       " 'абазинец',\n",
       " 'абазинцы',\n",
       " 'абазинка',\n",
       " 'абазия',\n",
       " 'абак',\n",
       " 'абандон']"
      ]
     },
     "execution_count": 1,
     "metadata": {},
     "output_type": "execute_result"
    }
   ],
   "source": [
    "with open(\"Словарь.txt\", encoding='utf-8') as f_dict:\n",
    "    dictionary = f_dict.read().lower().split()\n",
    "    \n",
    "dictionary[:10]"
   ]
  },
  {
   "cell_type": "code",
   "execution_count": 5,
   "id": "e9dc543b",
   "metadata": {},
   "outputs": [],
   "source": [
    "with open(\"Наследник из Калькутты.txt\", encoding='utf-8') as f_text:\n",
    "    book = f_text.read().lower().split()"
   ]
  },
  {
   "cell_type": "code",
   "execution_count": 6,
   "id": "faeb1cb9",
   "metadata": {},
   "outputs": [
    {
     "data": {
      "text/plain": [
       "['бурых',\n",
       " 'морских',\n",
       " 'валов;',\n",
       " 'берег',\n",
       " 'раскрывал',\n",
       " 'им',\n",
       " 'навстречу',\n",
       " 'каменные',\n",
       " 'объятия',\n",
       " 'заливов',\n",
       " 'и',\n",
       " 'бухт.',\n",
       " 'неторопливо',\n",
       " 'взмахивая',\n",
       " 'косматыми',\n",
       " 'гривами,',\n",
       " 'волны',\n",
       " 'таранили',\n",
       " 'подножие',\n",
       " 'утеса.',\n",
       " 'стоявшему',\n",
       " 'на',\n",
       " 'вершине',\n",
       " 'человеку',\n",
       " 'с',\n",
       " 'подзорной',\n",
       " 'трубой',\n",
       " 'казалось,',\n",
       " 'что',\n",
       " 'сам',\n",
       " 'утес,',\n",
       " 'словно',\n",
       " 'корабль',\n",
       " 'движется',\n",
       " 'навстречу',\n",
       " 'океанским',\n",
       " 'валам,',\n",
       " 'рассекая',\n",
       " 'их',\n",
       " 'каменной',\n",
       " 'грудью,',\n",
       " 'как',\n",
       " 'форштевнем',\n",
       " 'судна.',\n",
       " 'порывы',\n",
       " 'ветра',\n",
       " 'рассеивали',\n",
       " 'в',\n",
       " 'воздухе',\n",
       " 'тончайшую']"
      ]
     },
     "execution_count": 6,
     "metadata": {},
     "output_type": "execute_result"
    }
   ],
   "source": [
    "book[400:450]"
   ]
  },
  {
   "cell_type": "code",
   "execution_count": 7,
   "id": "6c70e014",
   "metadata": {},
   "outputs": [],
   "source": [
    "s1 = ''\n",
    "s2 = ''\n",
    "\n",
    "for i in range(len(book)):\n",
    "    word = book[i]\n",
    "    if word[0].isalpha():\n",
    "        if i % 2 == 0:\n",
    "            s1 += word[0]\n",
    "        else:\n",
    "            s2 += word[0]\n",
    "    else:\n",
    "        pass"
   ]
  },
  {
   "cell_type": "code",
   "execution_count": 10,
   "id": "fcbfc6db",
   "metadata": {},
   "outputs": [
    {
     "name": "stdout",
     "output_type": "stream",
     "text": [
      "виссон 56986\n",
      "плагиат 104195\n",
      "плагиатор 104195\n",
      "уговор 98160\n"
     ]
    }
   ],
   "source": [
    "for word in dictionary:\n",
    "    indx = s1.find(word)\n",
    "    if indx != -1 and len(word) >= 6:\n",
    "        print(word + ' ' + str(indx))"
   ]
  },
  {
   "cell_type": "code",
   "execution_count": 12,
   "id": "5b1e186a",
   "metadata": {},
   "outputs": [
    {
     "data": {
      "text/plain": [
       "'сбвкпбдитунрффзвддчопзвхтвмвузткпзевичвсвмссохимуопснугнпппддпбвиомкпинлснбивичксолжеписателворплагиаторунлвпопнижвмдсопдмвгслмсупсчнухуохнвтчлжскуснпеопддбксппэбугипоесмвдднсрсддгмвжнгбмомдпипвпмгсмн'"
      ]
     },
     "execution_count": 12,
     "metadata": {},
     "output_type": "execute_result"
    }
   ],
   "source": [
    "s1[104100:104300]"
   ]
  },
  {
   "cell_type": "code",
   "execution_count": 13,
   "id": "c7c96388",
   "metadata": {},
   "outputs": [],
   "source": [
    "with open(\"Наследник из Калькутты.txt\", encoding='utf-8') as f_text:\n",
    "    book_sent = f_text.read().split(\".\")"
   ]
  },
  {
   "cell_type": "code",
   "execution_count": 15,
   "id": "91dbcd54",
   "metadata": {},
   "outputs": [],
   "source": [
    "max_comas = -1\n",
    "good_sent = ''\n",
    "for sent in book_sent:\n",
    "    comas = len(sent.split(',')) - 1\n",
    "    \n",
    "    if comas > max_comas:\n",
    "        max_comas = comas\n",
    "        good_sent = sent\n",
    "    "
   ]
  },
  {
   "cell_type": "code",
   "execution_count": 16,
   "id": "5f96dee5",
   "metadata": {},
   "outputs": [
    {
     "data": {
      "text/plain": [
       "22"
      ]
     },
     "execution_count": 16,
     "metadata": {},
     "output_type": "execute_result"
    }
   ],
   "source": [
    "max_comas"
   ]
  },
  {
   "cell_type": "code",
   "execution_count": 18,
   "id": "ffce69de",
   "metadata": {},
   "outputs": [
    {
     "name": "stdout",
     "output_type": "stream",
     "text": [
      "\n",
      "Реджинальд  глядел  на нее  с восхищением, а Джордж Бингль  продолжал быстро\n",
      "бормотать выдержки из протокола:\n",
      "     --  \"Со смертью лица, носившего  титул  графа и  лорда Ченсфильда, эрла\n",
      "Бультонского   и  адмирала   британского  флота,  таковой  титул   перестает\n",
      "существовать, все  владения же  покойного, как-то:  поместье,  замок,  банк,\n",
      "верфь, промышленные предприятия, городские дома в Бультоне, Лондоне и других\n",
      "городах, сельскохозяйственные  фермы, сданные в  аренду, морские суда и  все\n",
      "движимое  имущество,  равно  как  и капиталы, находящиеся в ценных бумагах и\n",
      "золоте, а также удобные земли на  острове в Индийском  океане, передаются по\n",
      "праву наследства вдове покойного,  высокочтимой и глубоконравственной миледи\n",
      "Эллен  Райленд, графине  Ченсфильд, известной  своей благотворительностью  и\n",
      "заслужившей неизменнчю  благосклоннось  королевской  семьи за ее  всегдашнюю\n",
      "преданность тронч\n"
     ]
    }
   ],
   "source": [
    "print(good_sent)"
   ]
  },
  {
   "cell_type": "code",
   "execution_count": null,
   "id": "ed209ea9",
   "metadata": {},
   "outputs": [],
   "source": []
  }
 ],
 "metadata": {
  "kernelspec": {
   "display_name": "Python 3 (ipykernel)",
   "language": "python",
   "name": "python3"
  },
  "language_info": {
   "codemirror_mode": {
    "name": "ipython",
    "version": 3
   },
   "file_extension": ".py",
   "mimetype": "text/x-python",
   "name": "python",
   "nbconvert_exporter": "python",
   "pygments_lexer": "ipython3",
   "version": "3.9.7"
  }
 },
 "nbformat": 4,
 "nbformat_minor": 5
}
