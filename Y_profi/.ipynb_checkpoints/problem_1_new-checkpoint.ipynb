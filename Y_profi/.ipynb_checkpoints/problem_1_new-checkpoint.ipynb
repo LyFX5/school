{
 "cells": [
  {
   "cell_type": "code",
   "execution_count": null,
   "id": "da1baa08",
   "metadata": {},
   "outputs": [],
   "source": [
    "2\n",
    "5000 p_1\n",
    "7500 p_2\n",
    "\n",
    "3\n",
    "10000\n",
    "9999\n",
    "9998\n",
    "\n",
    "2\n",
    "10000\n",
    "5000\n",
    "\n"
   ]
  },
  {
   "cell_type": "code",
   "execution_count": 1,
   "id": "e989f29c",
   "metadata": {},
   "outputs": [
    {
     "name": "stdout",
     "output_type": "stream",
     "text": [
      "2\n",
      "10000\n",
      "5000\n"
     ]
    }
   ],
   "source": [
    "p = []\n",
    "n = int(input())\n",
    "for _ in range(n):\n",
    "    p.append(int(input()) / (10**4))"
   ]
  },
  {
   "cell_type": "code",
   "execution_count": 2,
   "id": "11637794",
   "metadata": {},
   "outputs": [],
   "source": [
    "N = 100000"
   ]
  },
  {
   "cell_type": "code",
   "execution_count": 3,
   "id": "a47d42b6",
   "metadata": {},
   "outputs": [],
   "source": [
    "def P(d):\n",
    "    if d < n:\n",
    "        p_d = (1 - p[d])\n",
    "        for i in range(d):\n",
    "            p_d *= p[i]\n",
    "        return p_d\n",
    "    m = d // n\n",
    "    r = d % n\n",
    "    p_d = 1\n",
    "    for i in range(n):\n",
    "        p_d *= p[i]\n",
    "    p_d = p_d**m\n",
    "    p_d = p_d * P(r)\n",
    "    return p_d"
   ]
  },
  {
   "cell_type": "code",
   "execution_count": 4,
   "id": "5e2b5e0a",
   "metadata": {},
   "outputs": [],
   "source": [
    "E = 0\n",
    "for d in range(1, N):\n",
    "    E += d * P(d)"
   ]
  },
  {
   "cell_type": "code",
   "execution_count": 5,
   "id": "fa850bf8",
   "metadata": {},
   "outputs": [
    {
     "data": {
      "text/plain": [
       "2.999999999999999"
      ]
     },
     "execution_count": 5,
     "metadata": {},
     "output_type": "execute_result"
    }
   ],
   "source": [
    "E"
   ]
  },
  {
   "cell_type": "code",
   "execution_count": 1,
   "id": "881b787a",
   "metadata": {},
   "outputs": [
    {
     "name": "stdout",
     "output_type": "stream",
     "text": [
      "3\n",
      "10000\n",
      "9999\n",
      "9998\n",
      "0.000499959999999945\n"
     ]
    }
   ],
   "source": [
    "p = []\n",
    "n = int(input())\n",
    "for _ in range(n):\n",
    "    p.append(int(input()) / (10**4))\n",
    "    \n",
    "N = 1000000\n",
    "\n",
    "P_d_arr = {}\n",
    "\n",
    "def P(d):\n",
    "    if d in P_d_arr:\n",
    "        return P_d_arr[d]\n",
    "    if d < n:\n",
    "        p_d = (1 - p[d])\n",
    "        for i in range(d):\n",
    "            p_d *= p[i]\n",
    "        P_d_arr[d] = p_d\n",
    "        return p_d\n",
    "    m = d // n\n",
    "    r = d % n\n",
    "    p_d = 1\n",
    "    for i in range(n):\n",
    "        p_d *= p[i]\n",
    "    p_d = p_d**m\n",
    "    p_d = p_d * P(r)\n",
    "    P_d_arr[d] = p_d\n",
    "    return p_d\n",
    "\n",
    "if p[0] == 0:\n",
    "    print(0)\n",
    "else:\n",
    "    E = 0\n",
    "    for d in range(1, N):\n",
    "        P_d = P(d)\n",
    "        E += d * P_d\n",
    "\n",
    "    print(E)"
   ]
  },
  {
   "cell_type": "code",
   "execution_count": null,
   "id": "43d0c9b6",
   "metadata": {},
   "outputs": [],
   "source": []
  }
 ],
 "metadata": {
  "kernelspec": {
   "display_name": "Python 3 (ipykernel)",
   "language": "python",
   "name": "python3"
  },
  "language_info": {
   "codemirror_mode": {
    "name": "ipython",
    "version": 3
   },
   "file_extension": ".py",
   "mimetype": "text/x-python",
   "name": "python",
   "nbconvert_exporter": "python",
   "pygments_lexer": "ipython3",
   "version": "3.10.6"
  }
 },
 "nbformat": 4,
 "nbformat_minor": 5
}
